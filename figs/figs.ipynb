{
 "cells": [
  {
   "cell_type": "code",
   "execution_count": 182,
   "metadata": {},
   "outputs": [],
   "source": [
    "import numpy as np \n",
    "import matplotlib.pyplot as plt \n",
    "\n",
    "cm = 1/2.54\n",
    "textwidth = 13.98611*cm\n",
    "\n",
    "%matplotlib qt\n",
    "normalsize = 12\n",
    "plt.rcParams.update({\n",
    "    \"text.usetex\": True,\n",
    "    \"font.family\": \"Cambria\",\n",
    "    \"font.size\": normalsize\n",
    "})\n"
   ]
  },
  {
   "cell_type": "code",
   "execution_count": 225,
   "metadata": {},
   "outputs": [
    {
     "name": "stderr",
     "output_type": "stream",
     "text": [
      "/home/epep/.local/lib/python3.6/site-packages/ipykernel_launcher.py:14: RuntimeWarning: divide by zero encountered in true_divide\n",
      "  \n",
      "/home/epep/.local/lib/python3.6/site-packages/ipykernel_launcher.py:16: RuntimeWarning: divide by zero encountered in true_divide\n",
      "  app.launch_new_instance()\n",
      "/home/epep/.local/lib/python3.6/site-packages/ipykernel_launcher.py:16: RuntimeWarning: invalid value encountered in multiply\n",
      "  app.launch_new_instance()\n",
      "/home/epep/.local/lib/python3.6/site-packages/ipykernel_launcher.py:17: RuntimeWarning: invalid value encountered in multiply\n"
     ]
    }
   ],
   "source": [
    "# 1D arrays \n",
    "def flow(Ch,q,title,xaxis,yaxis,filename):\n",
    "    W = 100.0\n",
    "    H = 100.0\n",
    "    x = np.arange(0,W+0.1,0.1) \n",
    "    y = np.arange(-H,H+0.1,0.1) \n",
    "    y[-1] = H\n",
    "\n",
    "    # Meshgrid \n",
    "    X,Y = np.meshgrid(x,y)\n",
    "    print\n",
    "    \n",
    "    # Assign vector directions\n",
    "    Fa = -abs(Ch/X) - abs(0.6*(Y-q) / (1+abs(Y-q)) - 0.596)\n",
    "    # Fa = -abs(Ch/X) - abs(-1 / (1 + np.exp(Y-q)))\n",
    "    Fb = Y/X - Fa*X\n",
    "    Ftheta = np.arctan(2*Fa*X + Fb)\n",
    "\n",
    "    Ex = -np.cos(Ftheta)\n",
    "    Ey = -np.sin(Ftheta)\n",
    "\n",
    "    start_x = np.arange(0,H+10,10)\n",
    "\n",
    "    stream_points = np.column_stack((start_x, np.sqrt(H*H - start_x*start_x)))\n",
    "    stream_points = np.append(stream_points, stream_points*[1,-1], axis=0)\n",
    "\n",
    "    # Depict illustration\n",
    "    fig = plt.figure()\n",
    "    plt.streamplot(X,Y,Ex,Ey, start_points=stream_points, density=5, linewidth=None, color='black')\n",
    "    plt.axhline(0,color='black',linestyle=':')\n",
    "    plt.gca().set_aspect('equal')\n",
    "\n",
    "    fig.set_figheight(15*cm)\n",
    "    plt.title(title, pad=10)\n",
    "    plt.xlabel(xaxis, fontsize=normalsize-1)\n",
    "    plt.ylabel(yaxis, fontsize=normalsize-1)\n",
    "    plt.show\n",
    "    plt.savefig(filename, format=\"pdf\", bbox_inches=\"tight\")\n",
    "flow(0.5,0,r'End Effector Movement Path',r'Horizontal Distance From Target (mm)',r'Vertical Distance From Target (mm)',\"foot_path.pdf\")\n",
    "# flow(0,0,r'End Effector Movement Path',r'Horizontal Distance From Target (mm)',r'Vertical Distance From Target (mm)',\"foot_path.pdf\")\n"
   ]
  },
  {
   "cell_type": "code",
   "execution_count": 192,
   "metadata": {},
   "outputs": [
    {
     "name": "stderr",
     "output_type": "stream",
     "text": [
      "/home/epep/.local/lib/python3.6/site-packages/IPython/core/interactiveshell.py:3343: RankWarning: Polyfit may be poorly conditioned\n",
      "  exec(code_obj, self.user_global_ns, self.user_ns)\n",
      "/home/epep/.local/lib/python3.6/site-packages/IPython/core/interactiveshell.py:3343: RankWarning: Polyfit may be poorly conditioned\n",
      "  exec(code_obj, self.user_global_ns, self.user_ns)\n"
     ]
    }
   ],
   "source": [
    "points1 = np.array([(0, 0), (50, 10), (100, -25)])\n",
    "points2 = np.array([(0, 0), (25, 45), (50, 10)])\n",
    "# get x and y vectors\n",
    "x = points1[:,0]\n",
    "y = points1[:,1]\n",
    "x2 = points2[:,0]\n",
    "y2 = points2[:,1]\n",
    "\n",
    "# calculate polynomial\n",
    "z = np.polyfit(x, y, 3)\n",
    "f = np.poly1d(z)\n",
    "z2 = np.polyfit(x2, y2, 3)\n",
    "f2 = np.poly1d(z2)\n",
    "\n",
    "\n",
    "# calculate new x's and y's\n",
    "x_wanted = np.linspace(x[0], x[1], 50)\n",
    "y_wanted = f(x_wanted)\n",
    "x_real2 = np.linspace(x[1], x[2], 50)\n",
    "y_real2 = f(x_real2)\n",
    "x_real1 = np.linspace(x2[0], x2[2], 50)\n",
    "y_real1 = f2(x_real1)\n",
    "\n",
    "fig = plt.figure()\n",
    "plt.plot(x_wanted, y_wanted,'--', color='black')\n",
    "plt.plot(x_real1, y_real1, color='black')\n",
    "plt.plot(x_real2, y_real2, color='black')\n",
    "plt.plot(x[0],y[0],'o', color='black')\n",
    "plt.plot(x[2],y[2],'o', color='black')\n",
    "plt.plot(x[1],y[1],'s', markersize=7, color='black')\n",
    "plt.axhline(0,color='black',linestyle=':')\n",
    "plt.axvline(0,color='black',linestyle=':')\n",
    "plt.text(x[1]+2, y[1]+2,'Recomputation point')\n",
    "plt.legend(['Desired Arc', 'Generated Arc'])\n",
    "plt.gca().set_aspect('equal')\n",
    "\n",
    "fig.set_figwidth(textwidth)\n",
    "plt.title(r'Problem With Arc Recomputation', pad=10)\n",
    "plt.xlabel(r'Horizontal Position (mm)', fontsize=normalsize-1)\n",
    "plt.ylabel(r'Vertical Position (mm)', fontsize=normalsize-1)\n",
    "\n",
    "# plt.show()\n",
    "plt.savefig(\"old_path.pdf\", format=\"pdf\", bbox_inches=\"tight\")\n"
   ]
  }
 ],
 "metadata": {
  "kernelspec": {
   "display_name": "Python 3",
   "language": "python",
   "name": "python3"
  },
  "language_info": {
   "codemirror_mode": {
    "name": "ipython",
    "version": 3
   },
   "file_extension": ".py",
   "mimetype": "text/x-python",
   "name": "python",
   "nbconvert_exporter": "python",
   "pygments_lexer": "ipython3",
   "version": "3.6.9"
  }
 },
 "nbformat": 4,
 "nbformat_minor": 2
}

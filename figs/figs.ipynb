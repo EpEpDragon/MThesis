{
 "cells": [
  {
   "cell_type": "code",
   "execution_count": 110,
   "metadata": {},
   "outputs": [
    {
     "name": "stderr",
     "output_type": "stream",
     "text": [
      "/home/epep/.local/lib/python3.6/site-packages/ipykernel_launcher.py:29: RuntimeWarning: divide by zero encountered in true_divide\n",
      "/home/epep/.local/lib/python3.6/site-packages/ipykernel_launcher.py:31: RuntimeWarning: divide by zero encountered in true_divide\n",
      "/home/epep/.local/lib/python3.6/site-packages/ipykernel_launcher.py:31: RuntimeWarning: invalid value encountered in multiply\n",
      "/home/epep/.local/lib/python3.6/site-packages/ipykernel_launcher.py:32: RuntimeWarning: invalid value encountered in multiply\n"
     ]
    }
   ],
   "source": [
    "import numpy as np \n",
    "import matplotlib.pyplot as plt \n",
    "\n",
    "cm = 1/2.54\n",
    "\n",
    "%matplotlib qt\n",
    "normalsize = 12\n",
    "plt.rcParams.update({\n",
    "    \"text.usetex\": True,\n",
    "    \"font.family\": \"Cambria\",\n",
    "    \"font.size\": normalsize\n",
    "})\n",
    "\n",
    "\n",
    "# 1D arrays \n",
    "W = 100.0\n",
    "H = 100.0\n",
    "x = np.arange(0,W+0.1,0.1) \n",
    "y = np.arange(-H,H+0.1,0.1) \n",
    "y[-1] = H\n",
    "\n",
    "# Meshgrid \n",
    "X,Y = np.meshgrid(x,y)\n",
    "print\n",
    "  \n",
    "# Assign vector directions \n",
    "Ch = 1\n",
    "q = 0\n",
    "Fa = -abs(Ch/X) - abs(0.6*(Y-q) / (1+abs(Y-q)) - 0.59)\n",
    "# Fa = -abs(Ch/X) - abs(-1 / (1 + np.exp(Y-q)))\n",
    "Fb = Y/X - Fa*X\n",
    "Ftheta = np.arctan(2*Fa*X + Fb)\n",
    "\n",
    "Ex = -np.cos(Ftheta)\n",
    "Ey = -np.sin(Ftheta)\n",
    "\n",
    "start_x = np.arange(0,H+10,10)\n",
    "\n",
    "stream_points = np.column_stack((start_x, np.sqrt(H*H - start_x*start_x)))\n",
    "stream_points = np.append(stream_points, stream_points*[1,-1], axis=0)\n",
    "\n",
    "# Depict illustration\n",
    "fig = plt.figure()\n",
    "plt.streamplot(X,Y,Ex,Ey, start_points=stream_points, density=5, linewidth=None, color='black')\n",
    "plt.axhline(0,color='black',linestyle=':')\n",
    "plt.gca().set_aspect('equal')\n",
    "\n",
    "fig.set_figheight(15*cm)\n",
    "plt.title(r'End Effector Movement Path', pad=10)\n",
    "plt.xlabel(r'Horizontal Distance From Target (mm)', fontsize=normalsize-1)\n",
    "plt.ylabel(r'Vertical Distance From Target (mm)', fontsize=normalsize-1)\n",
    "\n",
    "# plt.grid()\n",
    "plt.show()\n",
    "plt.savefig(\"foot_path.pdf\", format=\"pdf\", bbox_inches=\"tight\")\n"
   ]
  }
 ],
 "metadata": {
  "kernelspec": {
   "display_name": "Python 3",
   "language": "python",
   "name": "python3"
  },
  "language_info": {
   "codemirror_mode": {
    "name": "ipython",
    "version": 3
   },
   "file_extension": ".py",
   "mimetype": "text/x-python",
   "name": "python",
   "nbconvert_exporter": "python",
   "pygments_lexer": "ipython3",
   "version": "3.6.9"
  }
 },
 "nbformat": 4,
 "nbformat_minor": 2
}
